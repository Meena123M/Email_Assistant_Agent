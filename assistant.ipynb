{
 "cells": [
  {
   "cell_type": "code",
   "execution_count": 6,
   "id": "c9af13cb",
   "metadata": {},
   "outputs": [],
   "source": [
    "import os\n",
    "from dotenv import load_dotenv\n",
    "from langchain_community.agent_toolkits import GmailToolkit\n",
    "from langchain_community.tools.gmail.utils import build_resource_service,get_gmail_credentials\n",
    "from langchain import hub\n",
    "from langchain.agents import AgentExecutor,create_openai_functions_agent\n",
    "import google.generativeai as genai\n"
   ]
  },
  {
   "cell_type": "code",
   "execution_count": 2,
   "id": "0843460d",
   "metadata": {},
   "outputs": [
    {
     "data": {
      "text/plain": [
       "True"
      ]
     },
     "execution_count": 2,
     "metadata": {},
     "output_type": "execute_result"
    }
   ],
   "source": [
    "load_dotenv()"
   ]
  },
  {
   "cell_type": "code",
   "execution_count": 3,
   "id": "9d478de2",
   "metadata": {},
   "outputs": [],
   "source": [
    "os.environ['GEMINI_API_KEY'] = os.getenv('GEMINI_API_KEY')\n",
    "genai.configure(api_key=os.getenv('GEMINI_API_KEY'))"
   ]
  },
  {
   "cell_type": "code",
   "execution_count": 4,
   "id": "0d15b345",
   "metadata": {},
   "outputs": [
    {
     "name": "stdout",
     "output_type": "stream",
     "text": [
      "I do not have access to your current location. To get the weather in your location, you can use a weather app on your phone or computer, or search for \"[your location] weather\" on the internet.\n",
      "\n"
     ]
    }
   ],
   "source": [
    "model=genai.GenerativeModel(\"gemini-1.5-flash\")\n",
    "response=model.generate_content('how is the weather in my current location?')\n",
    "print(response.text)"
   ]
  },
  {
   "cell_type": "code",
   "execution_count": 5,
   "id": "2a224719",
   "metadata": {},
   "outputs": [
    {
     "name": "stdout",
     "output_type": "stream",
     "text": [
      "Please visit this URL to authorize this application: https://accounts.google.com/o/oauth2/auth?response_type=code&client_id=848333861849-4nd3ombc70mqa9oiuof54hco1l5fgkcv.apps.googleusercontent.com&redirect_uri=http%3A%2F%2Flocalhost%3A53047%2F&scope=https%3A%2F%2Fmail.google.com%2F&state=UsmAPTxHyeL5WaytbGRv4VPhmnuWaD&access_type=offline\n"
     ]
    }
   ],
   "source": [
    "# set up Gmail API credentials\n",
    "credential=get_gmail_credentials(token_file='token.json',client_secrets_file='client_secret.json', \n",
    "                       scopes=['https://mail.google.com/'])\n",
    "\n",
    "#build api resource service for gmail\n",
    "api_resource=build_resource_service(credentials=credential)\n",
    "\n",
    "#initialize gmail toolkit\n",
    "gmail_toolkit=GmailToolkit(api_resource=api_resource)\n",
    "                                 \n",
    "tools=gmail_toolkit.get_tools()                                 "
   ]
  },
  {
   "cell_type": "markdown",
   "id": "e930ebdd",
   "metadata": {},
   "source": []
  },
  {
   "cell_type": "code",
   "execution_count": null,
   "id": "54602ed8",
   "metadata": {},
   "outputs": [],
   "source": [
    "\n",
    "#pull the base prompt template from langchain hub\n",
    "template=hub.pull(\"hwchase17/openai-chat-agent\", \"base_prompt.txt\")"
   ]
  },
  {
   "cell_type": "code",
   "execution_count": 7,
   "id": "46dfc750",
   "metadata": {},
   "outputs": [],
   "source": [
    "from langchain_google_genai import ChatGoogleGenerativeAI   "
   ]
  },
  {
   "cell_type": "code",
   "execution_count": 10,
   "id": "737ebb85",
   "metadata": {},
   "outputs": [],
   "source": [
    "llm=ChatGoogleGenerativeAI(model=\"gemini-1.5-flash\",temperature=0,api_key=os.getenv('GEMINI_API_KEY'))"
   ]
  },
  {
   "cell_type": "code",
   "execution_count": 13,
   "id": "1fd398fe",
   "metadata": {},
   "outputs": [],
   "source": [
    "#pull the base prompt template from langchain hub\n",
    "base_prompt=hub.pull('langchain-ai/openai-functions-template')"
   ]
  },
  {
   "cell_type": "code",
   "execution_count": 12,
   "id": "4f60da5b",
   "metadata": {},
   "outputs": [],
   "source": [
    "instruction = (\n",
    "    \"You are a helpful email assistant agent that manages emails. \"\n",
    "    \"You can read, send, and organize emails using the tools provided. \"\n",
    "    \"Always respond concisely, professionally, and without exposing sensitive information.\"\n",
    ")"
   ]
  },
  {
   "cell_type": "code",
   "execution_count": 14,
   "id": "0068033d",
   "metadata": {},
   "outputs": [],
   "source": [
    "prompt=base_prompt.partial(instruction=instruction)"
   ]
  },
  {
   "cell_type": "code",
   "execution_count": 15,
   "id": "927a3cfc",
   "metadata": {},
   "outputs": [],
   "source": [
    "# create the agent\n",
    "agent=create_openai_functions_agent(llm=llm,prompt=prompt,tools=tools)"
   ]
  },
  {
   "cell_type": "code",
   "execution_count": 16,
   "id": "737710da",
   "metadata": {},
   "outputs": [],
   "source": [
    "agent_executor=AgentExecutor(agent=agent,tools=tools,verbose=False) #set verbose to false to avoid the sensitive info being printed"
   ]
  },
  {
   "cell_type": "code",
   "execution_count": null,
   "metadata": {},
   "outputs": [],
   "source": [
    "# invoke the agent to draft an email\n",
    "response=agent_executor.invoke({'input':'draft an email regarding project update to mia',\n",
    "                                'instructions':'inform mia that the project is on track and will be completed by the end of the month along add the corresponding subject , write the professional email it should be in a proper structure with greeting and sign off'})"
   ]
  },
  {
   "cell_type": "code",
   "execution_count": 26,
   "id": "07e768d0",
   "metadata": {},
   "outputs": [
    {
     "name": "stdout",
     "output_type": "stream",
     "text": [
      "('input', 'draft an email regarding project update to mia')\n",
      "('instructions', 'inform mia that the project is on track and will be completed by the end of the month along add the corresponding subject , write the professional email it should be in a proper structure with greeting and sign off')\n",
      "('output', 'OK. I\\'ve drafted an email to Mia.  The draft has been saved with the subject \"Project Update\".  The email informs Mia that the project is on track for completion by the end of the month.  Do you want me to send it, or do you need to make any changes to the draft before sending?')\n"
     ]
    }
   ],
   "source": [
    "for detail in response.items():\n",
    "    print(detail)"
   ]
  },
  {
   "cell_type": "code",
   "execution_count": null,
   "id": "bcfe1b10",
   "metadata": {},
   "outputs": [],
   "source": []
  },
  {
   "cell_type": "code",
   "execution_count": 37,
   "id": "8bb49092",
   "metadata": {},
   "outputs": [
    {
     "name": "stdout",
     "output_type": "stream",
     "text": [
      "{'input': 'how many emails do I have in my inbox today 3-sep-2025', 'instructions': 'Check in my primary inbox and give me the total count of emails received today', 'output': 'You received 10 emails in your primary inbox today, September 3, 2025.'}\n"
     ]
    }
   ],
   "source": [
    "# invoke the agent to check total counts of today\n",
    "response=agent_executor.invoke({'input':'how many emails do I have in my inbox today 3-sep-2025',\n",
    "                                'instructions':'Check in my primary inbox and give me the total count of emails received today'})\n",
    "print(response)"
   ]
  },
  {
   "cell_type": "code",
   "execution_count": null,
   "id": "76c85498",
   "metadata": {},
   "outputs": [],
   "source": []
  },
  {
   "cell_type": "code",
   "execution_count": 30,
   "id": "540d2ff5",
   "metadata": {},
   "outputs": [
    {
     "name": "stdout",
     "output_type": "stream",
     "text": [
      "{'input': 'send an email from (meenamgrp@gmail.com) email to meenakshi (meenamdatascientist@gmail.com) regarding the project update', 'instructions': 'email should be regarding the project update of new client need to know whether the project is completed or not and should be professional in tone and should have a proper structure with greeting and sign off along with the subject ', 'output': \"OK. I've sent the email.  Is there anything else?\"}\n"
     ]
    }
   ],
   "source": [
    "# invoke the agent to draft an email\n",
    "response=agent_executor.invoke({'input':'send an email from (meenamgrp@gmail.com) email to meenakshi (meenamdatascientist@gmail.com) regarding the project update',\n",
    "                                'instructions':'email should be regarding the project update of new client need to know whether the project is completed or not and should be professional in tone and should have a proper structure with greeting and sign off along with the subject '})\n",
    "print(response)"
   ]
  },
  {
   "cell_type": "code",
   "execution_count": null,
   "id": "b658bb28",
   "metadata": {},
   "outputs": [],
   "source": []
  },
  {
   "cell_type": "code",
   "execution_count": 38,
   "id": "f748d67f",
   "metadata": {},
   "outputs": [
    {
     "name": "stdout",
     "output_type": "stream",
     "text": [
      "{'input': 'who is the sender of the latest email in my inbox today 3-sep-2025', 'instructions': 'Check in my primary inbox and give me the details of the latest email', 'output': 'The sender of the latest email in your inbox on September 3rd, 2025 is IBM via LinkedIn.  The email is a newsletter.'}\n"
     ]
    }
   ],
   "source": [
    "# invoke the agent to draft an email\n",
    "response=agent_executor.invoke({'input':'who is the sender of the latest email in my inbox today 3-sep-2025',\n",
    "                                'instructions':'Check in my primary inbox and give me the details of the latest email'})\n",
    "print(response)"
   ]
  },
  {
   "cell_type": "code",
   "execution_count": null,
   "id": "c8267f53",
   "metadata": {},
   "outputs": [],
   "source": []
  },
  {
   "cell_type": "code",
   "execution_count": 44,
   "id": "b10e7106",
   "metadata": {},
   "outputs": [
    {
     "name": "stdout",
     "output_type": "stream",
     "text": [
      "{'input': 'send an email from meena (meenamgrp@gmail.com) email to meenakshi (meenamdatascientist@gmail.com),mia (meena15grp@gmail.com) regarding the project new task', 'instructions': 'compose email for two recipients  regarding the project new task. meenakshi (meenamdatascientist@gmail.com) need to work on data cleaning,model building ,deploying and mia (meena15grp@gmail.com) need to work on data collection,data analysis and data visualization.along with that need to ask any doubt with their task.send exact tasks to their email. email should be professional maximum 7 lines,properly aligned space, greeting and sign off along with the subject as their coincise task and mark the important things in bold and italics', 'output': 'OK. I have sent a draft email.  Please check your Gmail drafts.'}\n"
     ]
    }
   ],
   "source": [
    "# invoke the agent to draft an email\n",
    "response=agent_executor.invoke({'input':'send an email from meena (meenamgrp@gmail.com) email to meenakshi (meenamdatascientist@gmail.com),mia (meena15grp@gmail.com) regarding the project new task',\n",
    "                   'instructions':'compose email for two recipients  regarding the project new task. meenakshi (meenamdatascientist@gmail.com) need to work on data cleaning,model building ,deploying and mia (meena15grp@gmail.com) need to work on data collection,data analysis and data visualization.along with that need to ask any doubt with their task.send exact tasks to their email. email should be professional maximum 7 lines,properly aligned space, greeting and sign off along with the subject as their coincise task and mark the important things in bold and italics'})\n",
    "print(response)"
   ]
  },
  {
   "cell_type": "code",
   "execution_count": null,
   "id": "c751a3c3",
   "metadata": {},
   "outputs": [],
   "source": []
  },
  {
   "cell_type": "code",
   "execution_count": null,
   "id": "0405e7cf",
   "metadata": {},
   "outputs": [],
   "source": []
  },
  {
   "cell_type": "code",
   "execution_count": null,
   "id": "af8b59f7",
   "metadata": {},
   "outputs": [],
   "source": []
  },
  {
   "cell_type": "code",
   "execution_count": null,
   "id": "44fad5e2",
   "metadata": {},
   "outputs": [],
   "source": []
  }
 ],
 "metadata": {
  "kernelspec": {
   "display_name": ".venv",
   "language": "python",
   "name": "python3"
  },
  "language_info": {
   "codemirror_mode": {
    "name": "ipython",
    "version": 3
   },
   "file_extension": ".py",
   "mimetype": "text/x-python",
   "name": "python",
   "nbconvert_exporter": "python",
   "pygments_lexer": "ipython3",
   "version": "3.11.5"
  }
 },
 "nbformat": 4,
 "nbformat_minor": 5
}
